{
 "cells": [
  {
   "cell_type": "code",
   "execution_count": 1,
   "metadata": {},
   "outputs": [],
   "source": [
    "import pandas as pd\n",
    "from datetime import datetime as dt\n",
    "from functools import reduce\n",
    "\n"
   ]
  },
  {
   "cell_type": "code",
   "execution_count": 5,
   "metadata": {},
   "outputs": [
    {
     "data": {
      "text/html": [
       "<div>\n",
       "<style scoped>\n",
       "    .dataframe tbody tr th:only-of-type {\n",
       "        vertical-align: middle;\n",
       "    }\n",
       "\n",
       "    .dataframe tbody tr th {\n",
       "        vertical-align: top;\n",
       "    }\n",
       "\n",
       "    .dataframe thead th {\n",
       "        text-align: right;\n",
       "    }\n",
       "</style>\n",
       "<table border=\"1\" class=\"dataframe\">\n",
       "  <thead>\n",
       "    <tr style=\"text-align: right;\">\n",
       "      <th></th>\n",
       "      <th>iso_code</th>\n",
       "      <th>continent</th>\n",
       "      <th>location</th>\n",
       "      <th>date</th>\n",
       "      <th>total_cases</th>\n",
       "      <th>new_cases</th>\n",
       "      <th>new_cases_smoothed</th>\n",
       "      <th>total_deaths</th>\n",
       "      <th>new_deaths</th>\n",
       "      <th>new_deaths_smoothed</th>\n",
       "      <th>...</th>\n",
       "      <th>extreme_poverty</th>\n",
       "      <th>cardiovasc_death_rate</th>\n",
       "      <th>diabetes_prevalence</th>\n",
       "      <th>female_smokers</th>\n",
       "      <th>male_smokers</th>\n",
       "      <th>handwashing_facilities</th>\n",
       "      <th>hospital_beds_per_thousand</th>\n",
       "      <th>life_expectancy</th>\n",
       "      <th>human_development_index</th>\n",
       "      <th>excess_mortality</th>\n",
       "    </tr>\n",
       "  </thead>\n",
       "  <tbody>\n",
       "    <tr>\n",
       "      <td>0</td>\n",
       "      <td>AFG</td>\n",
       "      <td>Asia</td>\n",
       "      <td>Afghanistan</td>\n",
       "      <td>2020-02-24</td>\n",
       "      <td>1.0</td>\n",
       "      <td>1.0</td>\n",
       "      <td>NaN</td>\n",
       "      <td>NaN</td>\n",
       "      <td>NaN</td>\n",
       "      <td>NaN</td>\n",
       "      <td>...</td>\n",
       "      <td>NaN</td>\n",
       "      <td>597.029</td>\n",
       "      <td>9.59</td>\n",
       "      <td>NaN</td>\n",
       "      <td>NaN</td>\n",
       "      <td>37.746</td>\n",
       "      <td>0.5</td>\n",
       "      <td>64.83</td>\n",
       "      <td>0.511</td>\n",
       "      <td>NaN</td>\n",
       "    </tr>\n",
       "    <tr>\n",
       "      <td>1</td>\n",
       "      <td>AFG</td>\n",
       "      <td>Asia</td>\n",
       "      <td>Afghanistan</td>\n",
       "      <td>2020-02-25</td>\n",
       "      <td>1.0</td>\n",
       "      <td>0.0</td>\n",
       "      <td>NaN</td>\n",
       "      <td>NaN</td>\n",
       "      <td>NaN</td>\n",
       "      <td>NaN</td>\n",
       "      <td>...</td>\n",
       "      <td>NaN</td>\n",
       "      <td>597.029</td>\n",
       "      <td>9.59</td>\n",
       "      <td>NaN</td>\n",
       "      <td>NaN</td>\n",
       "      <td>37.746</td>\n",
       "      <td>0.5</td>\n",
       "      <td>64.83</td>\n",
       "      <td>0.511</td>\n",
       "      <td>NaN</td>\n",
       "    </tr>\n",
       "    <tr>\n",
       "      <td>2</td>\n",
       "      <td>AFG</td>\n",
       "      <td>Asia</td>\n",
       "      <td>Afghanistan</td>\n",
       "      <td>2020-02-26</td>\n",
       "      <td>1.0</td>\n",
       "      <td>0.0</td>\n",
       "      <td>NaN</td>\n",
       "      <td>NaN</td>\n",
       "      <td>NaN</td>\n",
       "      <td>NaN</td>\n",
       "      <td>...</td>\n",
       "      <td>NaN</td>\n",
       "      <td>597.029</td>\n",
       "      <td>9.59</td>\n",
       "      <td>NaN</td>\n",
       "      <td>NaN</td>\n",
       "      <td>37.746</td>\n",
       "      <td>0.5</td>\n",
       "      <td>64.83</td>\n",
       "      <td>0.511</td>\n",
       "      <td>NaN</td>\n",
       "    </tr>\n",
       "    <tr>\n",
       "      <td>3</td>\n",
       "      <td>AFG</td>\n",
       "      <td>Asia</td>\n",
       "      <td>Afghanistan</td>\n",
       "      <td>2020-02-27</td>\n",
       "      <td>1.0</td>\n",
       "      <td>0.0</td>\n",
       "      <td>NaN</td>\n",
       "      <td>NaN</td>\n",
       "      <td>NaN</td>\n",
       "      <td>NaN</td>\n",
       "      <td>...</td>\n",
       "      <td>NaN</td>\n",
       "      <td>597.029</td>\n",
       "      <td>9.59</td>\n",
       "      <td>NaN</td>\n",
       "      <td>NaN</td>\n",
       "      <td>37.746</td>\n",
       "      <td>0.5</td>\n",
       "      <td>64.83</td>\n",
       "      <td>0.511</td>\n",
       "      <td>NaN</td>\n",
       "    </tr>\n",
       "    <tr>\n",
       "      <td>4</td>\n",
       "      <td>AFG</td>\n",
       "      <td>Asia</td>\n",
       "      <td>Afghanistan</td>\n",
       "      <td>2020-02-28</td>\n",
       "      <td>1.0</td>\n",
       "      <td>0.0</td>\n",
       "      <td>NaN</td>\n",
       "      <td>NaN</td>\n",
       "      <td>NaN</td>\n",
       "      <td>NaN</td>\n",
       "      <td>...</td>\n",
       "      <td>NaN</td>\n",
       "      <td>597.029</td>\n",
       "      <td>9.59</td>\n",
       "      <td>NaN</td>\n",
       "      <td>NaN</td>\n",
       "      <td>37.746</td>\n",
       "      <td>0.5</td>\n",
       "      <td>64.83</td>\n",
       "      <td>0.511</td>\n",
       "      <td>NaN</td>\n",
       "    </tr>\n",
       "  </tbody>\n",
       "</table>\n",
       "<p>5 rows × 60 columns</p>\n",
       "</div>"
      ],
      "text/plain": [
       "  iso_code continent     location        date  total_cases  new_cases  \\\n",
       "0      AFG      Asia  Afghanistan  2020-02-24          1.0        1.0   \n",
       "1      AFG      Asia  Afghanistan  2020-02-25          1.0        0.0   \n",
       "2      AFG      Asia  Afghanistan  2020-02-26          1.0        0.0   \n",
       "3      AFG      Asia  Afghanistan  2020-02-27          1.0        0.0   \n",
       "4      AFG      Asia  Afghanistan  2020-02-28          1.0        0.0   \n",
       "\n",
       "   new_cases_smoothed  total_deaths  new_deaths  new_deaths_smoothed  ...  \\\n",
       "0                 NaN           NaN         NaN                  NaN  ...   \n",
       "1                 NaN           NaN         NaN                  NaN  ...   \n",
       "2                 NaN           NaN         NaN                  NaN  ...   \n",
       "3                 NaN           NaN         NaN                  NaN  ...   \n",
       "4                 NaN           NaN         NaN                  NaN  ...   \n",
       "\n",
       "   extreme_poverty  cardiovasc_death_rate  diabetes_prevalence  \\\n",
       "0              NaN                597.029                 9.59   \n",
       "1              NaN                597.029                 9.59   \n",
       "2              NaN                597.029                 9.59   \n",
       "3              NaN                597.029                 9.59   \n",
       "4              NaN                597.029                 9.59   \n",
       "\n",
       "   female_smokers  male_smokers  handwashing_facilities  \\\n",
       "0             NaN           NaN                  37.746   \n",
       "1             NaN           NaN                  37.746   \n",
       "2             NaN           NaN                  37.746   \n",
       "3             NaN           NaN                  37.746   \n",
       "4             NaN           NaN                  37.746   \n",
       "\n",
       "   hospital_beds_per_thousand  life_expectancy  human_development_index  \\\n",
       "0                         0.5            64.83                    0.511   \n",
       "1                         0.5            64.83                    0.511   \n",
       "2                         0.5            64.83                    0.511   \n",
       "3                         0.5            64.83                    0.511   \n",
       "4                         0.5            64.83                    0.511   \n",
       "\n",
       "   excess_mortality  \n",
       "0               NaN  \n",
       "1               NaN  \n",
       "2               NaN  \n",
       "3               NaN  \n",
       "4               NaN  \n",
       "\n",
       "[5 rows x 60 columns]"
      ]
     },
     "execution_count": 5,
     "metadata": {},
     "output_type": "execute_result"
    }
   ],
   "source": [
    "covid_data = 'assets/covid_data.csv'\n",
    "df_covid_data_v1 = pd.read_csv(covid_data)\n",
    "df_covid_data_v1.head()"
   ]
  },
  {
   "cell_type": "code",
   "execution_count": 117,
   "metadata": {},
   "outputs": [
    {
     "data": {
      "text/html": [
       "<div>\n",
       "<style scoped>\n",
       "    .dataframe tbody tr th:only-of-type {\n",
       "        vertical-align: middle;\n",
       "    }\n",
       "\n",
       "    .dataframe tbody tr th {\n",
       "        vertical-align: top;\n",
       "    }\n",
       "\n",
       "    .dataframe thead th {\n",
       "        text-align: right;\n",
       "    }\n",
       "</style>\n",
       "<table border=\"1\" class=\"dataframe\">\n",
       "  <thead>\n",
       "    <tr style=\"text-align: right;\">\n",
       "      <th></th>\n",
       "      <th>date</th>\n",
       "      <th>icu_patients</th>\n",
       "      <th>new_vaccinations</th>\n",
       "      <th>new_tests_per_thousand</th>\n",
       "      <th>positive_rate</th>\n",
       "      <th>new_cases</th>\n",
       "      <th>location</th>\n",
       "      <th>new_deaths</th>\n",
       "      <th>people_vaccinated_per_hundred</th>\n",
       "      <th>hosp_patients</th>\n",
       "    </tr>\n",
       "  </thead>\n",
       "  <tbody>\n",
       "    <tr>\n",
       "      <td>55</td>\n",
       "      <td>2021-07-18</td>\n",
       "      <td>NaN</td>\n",
       "      <td>4015.0</td>\n",
       "      <td>NaN</td>\n",
       "      <td>NaN</td>\n",
       "      <td>0.0</td>\n",
       "      <td>Afghanistan</td>\n",
       "      <td>0.0</td>\n",
       "      <td>1.98</td>\n",
       "      <td>NaN</td>\n",
       "    </tr>\n",
       "    <tr>\n",
       "      <td>56</td>\n",
       "      <td>2021-07-18</td>\n",
       "      <td>NaN</td>\n",
       "      <td>NaN</td>\n",
       "      <td>1.911</td>\n",
       "      <td>0.030</td>\n",
       "      <td>132.0</td>\n",
       "      <td>Armenia</td>\n",
       "      <td>7.0</td>\n",
       "      <td>6.44</td>\n",
       "      <td>NaN</td>\n",
       "    </tr>\n",
       "    <tr>\n",
       "      <td>57</td>\n",
       "      <td>2021-07-18</td>\n",
       "      <td>NaN</td>\n",
       "      <td>33869.0</td>\n",
       "      <td>0.897</td>\n",
       "      <td>0.016</td>\n",
       "      <td>255.0</td>\n",
       "      <td>Azerbaijan</td>\n",
       "      <td>1.0</td>\n",
       "      <td>25.45</td>\n",
       "      <td>NaN</td>\n",
       "    </tr>\n",
       "    <tr>\n",
       "      <td>58</td>\n",
       "      <td>2021-07-18</td>\n",
       "      <td>NaN</td>\n",
       "      <td>6318.0</td>\n",
       "      <td>8.305</td>\n",
       "      <td>0.008</td>\n",
       "      <td>86.0</td>\n",
       "      <td>Bahrain</td>\n",
       "      <td>0.0</td>\n",
       "      <td>64.43</td>\n",
       "      <td>NaN</td>\n",
       "    </tr>\n",
       "    <tr>\n",
       "      <td>59</td>\n",
       "      <td>2021-07-18</td>\n",
       "      <td>NaN</td>\n",
       "      <td>1872.0</td>\n",
       "      <td>0.273</td>\n",
       "      <td>0.333</td>\n",
       "      <td>11578.0</td>\n",
       "      <td>Bangladesh</td>\n",
       "      <td>225.0</td>\n",
       "      <td>3.54</td>\n",
       "      <td>NaN</td>\n",
       "    </tr>\n",
       "    <tr>\n",
       "      <td>60</td>\n",
       "      <td>2021-07-18</td>\n",
       "      <td>NaN</td>\n",
       "      <td>43.0</td>\n",
       "      <td>3.631</td>\n",
       "      <td>0.004</td>\n",
       "      <td>10.0</td>\n",
       "      <td>Bhutan</td>\n",
       "      <td>0.0</td>\n",
       "      <td>62.92</td>\n",
       "      <td>NaN</td>\n",
       "    </tr>\n",
       "    <tr>\n",
       "      <td>61</td>\n",
       "      <td>2021-07-18</td>\n",
       "      <td>NaN</td>\n",
       "      <td>690.0</td>\n",
       "      <td>NaN</td>\n",
       "      <td>NaN</td>\n",
       "      <td>0.0</td>\n",
       "      <td>Brunei</td>\n",
       "      <td>0.0</td>\n",
       "      <td>24.36</td>\n",
       "      <td>NaN</td>\n",
       "    </tr>\n",
       "    <tr>\n",
       "      <td>62</td>\n",
       "      <td>2021-07-18</td>\n",
       "      <td>NaN</td>\n",
       "      <td>166010.0</td>\n",
       "      <td>0.435</td>\n",
       "      <td>0.035</td>\n",
       "      <td>845.0</td>\n",
       "      <td>Cambodia</td>\n",
       "      <td>30.0</td>\n",
       "      <td>35.36</td>\n",
       "      <td>NaN</td>\n",
       "    </tr>\n",
       "    <tr>\n",
       "      <td>63</td>\n",
       "      <td>2021-07-18</td>\n",
       "      <td>NaN</td>\n",
       "      <td>9130000.0</td>\n",
       "      <td>NaN</td>\n",
       "      <td>NaN</td>\n",
       "      <td>31.0</td>\n",
       "      <td>China</td>\n",
       "      <td>0.0</td>\n",
       "      <td>43.21</td>\n",
       "      <td>NaN</td>\n",
       "    </tr>\n",
       "    <tr>\n",
       "      <td>64</td>\n",
       "      <td>2021-07-18</td>\n",
       "      <td>NaN</td>\n",
       "      <td>5768.0</td>\n",
       "      <td>7.771</td>\n",
       "      <td>0.029</td>\n",
       "      <td>1286.0</td>\n",
       "      <td>Georgia</td>\n",
       "      <td>13.0</td>\n",
       "      <td>4.40</td>\n",
       "      <td>NaN</td>\n",
       "    </tr>\n",
       "    <tr>\n",
       "      <td>65</td>\n",
       "      <td>2021-07-18</td>\n",
       "      <td>NaN</td>\n",
       "      <td>55296.0</td>\n",
       "      <td>NaN</td>\n",
       "      <td>0.000</td>\n",
       "      <td>2.0</td>\n",
       "      <td>Hong Kong</td>\n",
       "      <td>0.0</td>\n",
       "      <td>37.58</td>\n",
       "      <td>NaN</td>\n",
       "    </tr>\n",
       "    <tr>\n",
       "      <td>66</td>\n",
       "      <td>2021-07-18</td>\n",
       "      <td>NaN</td>\n",
       "      <td>5235836.0</td>\n",
       "      <td>1.457</td>\n",
       "      <td>0.018</td>\n",
       "      <td>38164.0</td>\n",
       "      <td>India</td>\n",
       "      <td>499.0</td>\n",
       "      <td>23.33</td>\n",
       "      <td>NaN</td>\n",
       "    </tr>\n",
       "    <tr>\n",
       "      <td>67</td>\n",
       "      <td>2021-07-18</td>\n",
       "      <td>NaN</td>\n",
       "      <td>461132.0</td>\n",
       "      <td>0.678</td>\n",
       "      <td>0.293</td>\n",
       "      <td>44721.0</td>\n",
       "      <td>Indonesia</td>\n",
       "      <td>1093.0</td>\n",
       "      <td>15.24</td>\n",
       "      <td>NaN</td>\n",
       "    </tr>\n",
       "    <tr>\n",
       "      <td>68</td>\n",
       "      <td>2021-07-18</td>\n",
       "      <td>NaN</td>\n",
       "      <td>65532.0</td>\n",
       "      <td>0.914</td>\n",
       "      <td>0.249</td>\n",
       "      <td>22184.0</td>\n",
       "      <td>Iran</td>\n",
       "      <td>195.0</td>\n",
       "      <td>5.23</td>\n",
       "      <td>NaN</td>\n",
       "    </tr>\n",
       "    <tr>\n",
       "      <td>69</td>\n",
       "      <td>2021-07-18</td>\n",
       "      <td>NaN</td>\n",
       "      <td>9985.0</td>\n",
       "      <td>1.133</td>\n",
       "      <td>0.198</td>\n",
       "      <td>8698.0</td>\n",
       "      <td>Iraq</td>\n",
       "      <td>41.0</td>\n",
       "      <td>1.74</td>\n",
       "      <td>NaN</td>\n",
       "    </tr>\n",
       "    <tr>\n",
       "      <td>70</td>\n",
       "      <td>2021-07-19</td>\n",
       "      <td>18.0</td>\n",
       "      <td>10474.0</td>\n",
       "      <td>7.524</td>\n",
       "      <td>0.011</td>\n",
       "      <td>755.0</td>\n",
       "      <td>Israel</td>\n",
       "      <td>3.0</td>\n",
       "      <td>66.36</td>\n",
       "      <td>125.0</td>\n",
       "    </tr>\n",
       "    <tr>\n",
       "      <td>71</td>\n",
       "      <td>2021-07-18</td>\n",
       "      <td>NaN</td>\n",
       "      <td>580702.0</td>\n",
       "      <td>0.534</td>\n",
       "      <td>0.039</td>\n",
       "      <td>3065.0</td>\n",
       "      <td>Japan</td>\n",
       "      <td>3.0</td>\n",
       "      <td>33.71</td>\n",
       "      <td>NaN</td>\n",
       "    </tr>\n",
       "    <tr>\n",
       "      <td>72</td>\n",
       "      <td>2021-07-18</td>\n",
       "      <td>NaN</td>\n",
       "      <td>67092.0</td>\n",
       "      <td>2.197</td>\n",
       "      <td>0.005</td>\n",
       "      <td>675.0</td>\n",
       "      <td>Jordan</td>\n",
       "      <td>9.0</td>\n",
       "      <td>26.56</td>\n",
       "      <td>NaN</td>\n",
       "    </tr>\n",
       "    <tr>\n",
       "      <td>73</td>\n",
       "      <td>2021-07-18</td>\n",
       "      <td>NaN</td>\n",
       "      <td>77737.0</td>\n",
       "      <td>2.808</td>\n",
       "      <td>0.030</td>\n",
       "      <td>124.0</td>\n",
       "      <td>Kazakhstan</td>\n",
       "      <td>0.0</td>\n",
       "      <td>25.95</td>\n",
       "      <td>NaN</td>\n",
       "    </tr>\n",
       "    <tr>\n",
       "      <td>74</td>\n",
       "      <td>2021-07-18</td>\n",
       "      <td>NaN</td>\n",
       "      <td>NaN</td>\n",
       "      <td>3.590</td>\n",
       "      <td>0.109</td>\n",
       "      <td>1189.0</td>\n",
       "      <td>Kuwait</td>\n",
       "      <td>10.0</td>\n",
       "      <td>34.00</td>\n",
       "      <td>NaN</td>\n",
       "    </tr>\n",
       "    <tr>\n",
       "      <td>75</td>\n",
       "      <td>2021-07-18</td>\n",
       "      <td>NaN</td>\n",
       "      <td>205.0</td>\n",
       "      <td>NaN</td>\n",
       "      <td>NaN</td>\n",
       "      <td>1373.0</td>\n",
       "      <td>Kyrgyzstan</td>\n",
       "      <td>10.0</td>\n",
       "      <td>1.53</td>\n",
       "      <td>NaN</td>\n",
       "    </tr>\n",
       "    <tr>\n",
       "      <td>76</td>\n",
       "      <td>2021-07-18</td>\n",
       "      <td>NaN</td>\n",
       "      <td>14671.0</td>\n",
       "      <td>0.214</td>\n",
       "      <td>0.024</td>\n",
       "      <td>131.0</td>\n",
       "      <td>Laos</td>\n",
       "      <td>1.0</td>\n",
       "      <td>14.27</td>\n",
       "      <td>NaN</td>\n",
       "    </tr>\n",
       "    <tr>\n",
       "      <td>77</td>\n",
       "      <td>2021-07-18</td>\n",
       "      <td>NaN</td>\n",
       "      <td>861.0</td>\n",
       "      <td>2.057</td>\n",
       "      <td>NaN</td>\n",
       "      <td>450.0</td>\n",
       "      <td>Lebanon</td>\n",
       "      <td>1.0</td>\n",
       "      <td>15.39</td>\n",
       "      <td>NaN</td>\n",
       "    </tr>\n",
       "    <tr>\n",
       "      <td>78</td>\n",
       "      <td>2021-07-18</td>\n",
       "      <td>NaN</td>\n",
       "      <td>4805.0</td>\n",
       "      <td>NaN</td>\n",
       "      <td>NaN</td>\n",
       "      <td>NaN</td>\n",
       "      <td>Macao</td>\n",
       "      <td>NaN</td>\n",
       "      <td>41.38</td>\n",
       "      <td>NaN</td>\n",
       "    </tr>\n",
       "    <tr>\n",
       "      <td>79</td>\n",
       "      <td>2021-07-18</td>\n",
       "      <td>NaN</td>\n",
       "      <td>344961.0</td>\n",
       "      <td>4.158</td>\n",
       "      <td>0.093</td>\n",
       "      <td>10710.0</td>\n",
       "      <td>Malaysia</td>\n",
       "      <td>153.0</td>\n",
       "      <td>30.33</td>\n",
       "      <td>NaN</td>\n",
       "    </tr>\n",
       "    <tr>\n",
       "      <td>80</td>\n",
       "      <td>2021-07-18</td>\n",
       "      <td>NaN</td>\n",
       "      <td>4446.0</td>\n",
       "      <td>10.617</td>\n",
       "      <td>0.017</td>\n",
       "      <td>63.0</td>\n",
       "      <td>Maldives</td>\n",
       "      <td>0.0</td>\n",
       "      <td>59.28</td>\n",
       "      <td>NaN</td>\n",
       "    </tr>\n",
       "    <tr>\n",
       "      <td>81</td>\n",
       "      <td>2021-07-18</td>\n",
       "      <td>NaN</td>\n",
       "      <td>4664.0</td>\n",
       "      <td>3.193</td>\n",
       "      <td>0.156</td>\n",
       "      <td>1171.0</td>\n",
       "      <td>Mongolia</td>\n",
       "      <td>6.0</td>\n",
       "      <td>64.27</td>\n",
       "      <td>NaN</td>\n",
       "    </tr>\n",
       "    <tr>\n",
       "      <td>82</td>\n",
       "      <td>2021-07-18</td>\n",
       "      <td>NaN</td>\n",
       "      <td>3800.0</td>\n",
       "      <td>0.215</td>\n",
       "      <td>0.303</td>\n",
       "      <td>5285.0</td>\n",
       "      <td>Myanmar</td>\n",
       "      <td>231.0</td>\n",
       "      <td>3.38</td>\n",
       "      <td>NaN</td>\n",
       "    </tr>\n",
       "    <tr>\n",
       "      <td>83</td>\n",
       "      <td>2021-07-18</td>\n",
       "      <td>NaN</td>\n",
       "      <td>89402.0</td>\n",
       "      <td>0.283</td>\n",
       "      <td>0.225</td>\n",
       "      <td>1223.0</td>\n",
       "      <td>Nepal</td>\n",
       "      <td>23.0</td>\n",
       "      <td>10.29</td>\n",
       "      <td>NaN</td>\n",
       "    </tr>\n",
       "    <tr>\n",
       "      <td>84</td>\n",
       "      <td>2021-06-27</td>\n",
       "      <td>NaN</td>\n",
       "      <td>795.0</td>\n",
       "      <td>NaN</td>\n",
       "      <td>NaN</td>\n",
       "      <td>NaN</td>\n",
       "      <td>Northern Cyprus</td>\n",
       "      <td>NaN</td>\n",
       "      <td>28.50</td>\n",
       "      <td>NaN</td>\n",
       "    </tr>\n",
       "    <tr>\n",
       "      <td>85</td>\n",
       "      <td>2021-07-18</td>\n",
       "      <td>NaN</td>\n",
       "      <td>3650.0</td>\n",
       "      <td>0.525</td>\n",
       "      <td>0.361</td>\n",
       "      <td>0.0</td>\n",
       "      <td>Oman</td>\n",
       "      <td>0.0</td>\n",
       "      <td>28.14</td>\n",
       "      <td>NaN</td>\n",
       "    </tr>\n",
       "    <tr>\n",
       "      <td>86</td>\n",
       "      <td>2021-07-18</td>\n",
       "      <td>NaN</td>\n",
       "      <td>513292.0</td>\n",
       "      <td>0.171</td>\n",
       "      <td>0.042</td>\n",
       "      <td>2452.0</td>\n",
       "      <td>Pakistan</td>\n",
       "      <td>30.0</td>\n",
       "      <td>4.21</td>\n",
       "      <td>NaN</td>\n",
       "    </tr>\n",
       "    <tr>\n",
       "      <td>87</td>\n",
       "      <td>2021-07-18</td>\n",
       "      <td>NaN</td>\n",
       "      <td>109.0</td>\n",
       "      <td>0.678</td>\n",
       "      <td>0.032</td>\n",
       "      <td>0.0</td>\n",
       "      <td>Palestine</td>\n",
       "      <td>0.0</td>\n",
       "      <td>11.09</td>\n",
       "      <td>NaN</td>\n",
       "    </tr>\n",
       "    <tr>\n",
       "      <td>88</td>\n",
       "      <td>2021-07-18</td>\n",
       "      <td>NaN</td>\n",
       "      <td>391272.0</td>\n",
       "      <td>0.460</td>\n",
       "      <td>0.111</td>\n",
       "      <td>5396.0</td>\n",
       "      <td>Philippines</td>\n",
       "      <td>116.0</td>\n",
       "      <td>9.29</td>\n",
       "      <td>NaN</td>\n",
       "    </tr>\n",
       "    <tr>\n",
       "      <td>89</td>\n",
       "      <td>2021-07-18</td>\n",
       "      <td>NaN</td>\n",
       "      <td>19961.0</td>\n",
       "      <td>1.897</td>\n",
       "      <td>0.024</td>\n",
       "      <td>118.0</td>\n",
       "      <td>Qatar</td>\n",
       "      <td>0.0</td>\n",
       "      <td>66.50</td>\n",
       "      <td>NaN</td>\n",
       "    </tr>\n",
       "    <tr>\n",
       "      <td>90</td>\n",
       "      <td>2021-07-18</td>\n",
       "      <td>NaN</td>\n",
       "      <td>383410.0</td>\n",
       "      <td>3.033</td>\n",
       "      <td>0.010</td>\n",
       "      <td>0.0</td>\n",
       "      <td>Saudi Arabia</td>\n",
       "      <td>0.0</td>\n",
       "      <td>52.97</td>\n",
       "      <td>NaN</td>\n",
       "    </tr>\n",
       "    <tr>\n",
       "      <td>91</td>\n",
       "      <td>2021-07-18</td>\n",
       "      <td>NaN</td>\n",
       "      <td>75863.0</td>\n",
       "      <td>NaN</td>\n",
       "      <td>0.000</td>\n",
       "      <td>92.0</td>\n",
       "      <td>Singapore</td>\n",
       "      <td>0.0</td>\n",
       "      <td>70.71</td>\n",
       "      <td>NaN</td>\n",
       "    </tr>\n",
       "    <tr>\n",
       "      <td>92</td>\n",
       "      <td>2021-07-18</td>\n",
       "      <td>NaN</td>\n",
       "      <td>2804.0</td>\n",
       "      <td>0.671</td>\n",
       "      <td>0.047</td>\n",
       "      <td>1252.0</td>\n",
       "      <td>South Korea</td>\n",
       "      <td>1.0</td>\n",
       "      <td>31.47</td>\n",
       "      <td>NaN</td>\n",
       "    </tr>\n",
       "    <tr>\n",
       "      <td>93</td>\n",
       "      <td>2021-07-18</td>\n",
       "      <td>NaN</td>\n",
       "      <td>195869.0</td>\n",
       "      <td>0.620</td>\n",
       "      <td>0.117</td>\n",
       "      <td>1420.0</td>\n",
       "      <td>Sri Lanka</td>\n",
       "      <td>46.0</td>\n",
       "      <td>26.05</td>\n",
       "      <td>NaN</td>\n",
       "    </tr>\n",
       "    <tr>\n",
       "      <td>94</td>\n",
       "      <td>2021-07-18</td>\n",
       "      <td>NaN</td>\n",
       "      <td>NaN</td>\n",
       "      <td>NaN</td>\n",
       "      <td>NaN</td>\n",
       "      <td>7.0</td>\n",
       "      <td>Syria</td>\n",
       "      <td>1.0</td>\n",
       "      <td>0.70</td>\n",
       "      <td>NaN</td>\n",
       "    </tr>\n",
       "    <tr>\n",
       "      <td>95</td>\n",
       "      <td>2021-07-18</td>\n",
       "      <td>NaN</td>\n",
       "      <td>313013.0</td>\n",
       "      <td>0.502</td>\n",
       "      <td>0.001</td>\n",
       "      <td>18.0</td>\n",
       "      <td>Taiwan</td>\n",
       "      <td>4.0</td>\n",
       "      <td>20.12</td>\n",
       "      <td>NaN</td>\n",
       "    </tr>\n",
       "    <tr>\n",
       "      <td>96</td>\n",
       "      <td>2021-07-18</td>\n",
       "      <td>NaN</td>\n",
       "      <td>NaN</td>\n",
       "      <td>NaN</td>\n",
       "      <td>NaN</td>\n",
       "      <td>41.0</td>\n",
       "      <td>Tajikistan</td>\n",
       "      <td>0.0</td>\n",
       "      <td>3.96</td>\n",
       "      <td>NaN</td>\n",
       "    </tr>\n",
       "    <tr>\n",
       "      <td>97</td>\n",
       "      <td>2021-07-18</td>\n",
       "      <td>NaN</td>\n",
       "      <td>93273.0</td>\n",
       "      <td>1.077</td>\n",
       "      <td>NaN</td>\n",
       "      <td>11397.0</td>\n",
       "      <td>Thailand</td>\n",
       "      <td>101.0</td>\n",
       "      <td>15.45</td>\n",
       "      <td>NaN</td>\n",
       "    </tr>\n",
       "    <tr>\n",
       "      <td>98</td>\n",
       "      <td>2021-07-18</td>\n",
       "      <td>NaN</td>\n",
       "      <td>NaN</td>\n",
       "      <td>0.711</td>\n",
       "      <td>NaN</td>\n",
       "      <td>28.0</td>\n",
       "      <td>Timor</td>\n",
       "      <td>0.0</td>\n",
       "      <td>18.05</td>\n",
       "      <td>NaN</td>\n",
       "    </tr>\n",
       "    <tr>\n",
       "      <td>99</td>\n",
       "      <td>2021-07-18</td>\n",
       "      <td>NaN</td>\n",
       "      <td>362069.0</td>\n",
       "      <td>2.596</td>\n",
       "      <td>0.023</td>\n",
       "      <td>0.0</td>\n",
       "      <td>Turkey</td>\n",
       "      <td>0.0</td>\n",
       "      <td>46.20</td>\n",
       "      <td>NaN</td>\n",
       "    </tr>\n",
       "    <tr>\n",
       "      <td>100</td>\n",
       "      <td>2021-04-04</td>\n",
       "      <td>NaN</td>\n",
       "      <td>NaN</td>\n",
       "      <td>NaN</td>\n",
       "      <td>NaN</td>\n",
       "      <td>NaN</td>\n",
       "      <td>Turkmenistan</td>\n",
       "      <td>NaN</td>\n",
       "      <td>0.53</td>\n",
       "      <td>NaN</td>\n",
       "    </tr>\n",
       "    <tr>\n",
       "      <td>101</td>\n",
       "      <td>2021-07-18</td>\n",
       "      <td>NaN</td>\n",
       "      <td>69059.0</td>\n",
       "      <td>29.210</td>\n",
       "      <td>0.006</td>\n",
       "      <td>1529.0</td>\n",
       "      <td>UAE</td>\n",
       "      <td>2.0</td>\n",
       "      <td>77.60</td>\n",
       "      <td>NaN</td>\n",
       "    </tr>\n",
       "    <tr>\n",
       "      <td>102</td>\n",
       "      <td>2021-07-18</td>\n",
       "      <td>NaN</td>\n",
       "      <td>78652.0</td>\n",
       "      <td>NaN</td>\n",
       "      <td>NaN</td>\n",
       "      <td>507.0</td>\n",
       "      <td>Uzbekistan</td>\n",
       "      <td>3.0</td>\n",
       "      <td>6.20</td>\n",
       "      <td>NaN</td>\n",
       "    </tr>\n",
       "    <tr>\n",
       "      <td>103</td>\n",
       "      <td>2021-07-18</td>\n",
       "      <td>NaN</td>\n",
       "      <td>22654.0</td>\n",
       "      <td>0.915</td>\n",
       "      <td>0.027</td>\n",
       "      <td>4843.0</td>\n",
       "      <td>Vietnam</td>\n",
       "      <td>29.0</td>\n",
       "      <td>4.09</td>\n",
       "      <td>NaN</td>\n",
       "    </tr>\n",
       "    <tr>\n",
       "      <td>104</td>\n",
       "      <td>2021-07-18</td>\n",
       "      <td>NaN</td>\n",
       "      <td>NaN</td>\n",
       "      <td>NaN</td>\n",
       "      <td>NaN</td>\n",
       "      <td>4.0</td>\n",
       "      <td>Yemen</td>\n",
       "      <td>0.0</td>\n",
       "      <td>0.97</td>\n",
       "      <td>NaN</td>\n",
       "    </tr>\n",
       "  </tbody>\n",
       "</table>\n",
       "</div>"
      ],
      "text/plain": [
       "           date  icu_patients  new_vaccinations  new_tests_per_thousand  \\\n",
       "55   2021-07-18           NaN            4015.0                     NaN   \n",
       "56   2021-07-18           NaN               NaN                   1.911   \n",
       "57   2021-07-18           NaN           33869.0                   0.897   \n",
       "58   2021-07-18           NaN            6318.0                   8.305   \n",
       "59   2021-07-18           NaN            1872.0                   0.273   \n",
       "60   2021-07-18           NaN              43.0                   3.631   \n",
       "61   2021-07-18           NaN             690.0                     NaN   \n",
       "62   2021-07-18           NaN          166010.0                   0.435   \n",
       "63   2021-07-18           NaN         9130000.0                     NaN   \n",
       "64   2021-07-18           NaN            5768.0                   7.771   \n",
       "65   2021-07-18           NaN           55296.0                     NaN   \n",
       "66   2021-07-18           NaN         5235836.0                   1.457   \n",
       "67   2021-07-18           NaN          461132.0                   0.678   \n",
       "68   2021-07-18           NaN           65532.0                   0.914   \n",
       "69   2021-07-18           NaN            9985.0                   1.133   \n",
       "70   2021-07-19          18.0           10474.0                   7.524   \n",
       "71   2021-07-18           NaN          580702.0                   0.534   \n",
       "72   2021-07-18           NaN           67092.0                   2.197   \n",
       "73   2021-07-18           NaN           77737.0                   2.808   \n",
       "74   2021-07-18           NaN               NaN                   3.590   \n",
       "75   2021-07-18           NaN             205.0                     NaN   \n",
       "76   2021-07-18           NaN           14671.0                   0.214   \n",
       "77   2021-07-18           NaN             861.0                   2.057   \n",
       "78   2021-07-18           NaN            4805.0                     NaN   \n",
       "79   2021-07-18           NaN          344961.0                   4.158   \n",
       "80   2021-07-18           NaN            4446.0                  10.617   \n",
       "81   2021-07-18           NaN            4664.0                   3.193   \n",
       "82   2021-07-18           NaN            3800.0                   0.215   \n",
       "83   2021-07-18           NaN           89402.0                   0.283   \n",
       "84   2021-06-27           NaN             795.0                     NaN   \n",
       "85   2021-07-18           NaN            3650.0                   0.525   \n",
       "86   2021-07-18           NaN          513292.0                   0.171   \n",
       "87   2021-07-18           NaN             109.0                   0.678   \n",
       "88   2021-07-18           NaN          391272.0                   0.460   \n",
       "89   2021-07-18           NaN           19961.0                   1.897   \n",
       "90   2021-07-18           NaN          383410.0                   3.033   \n",
       "91   2021-07-18           NaN           75863.0                     NaN   \n",
       "92   2021-07-18           NaN            2804.0                   0.671   \n",
       "93   2021-07-18           NaN          195869.0                   0.620   \n",
       "94   2021-07-18           NaN               NaN                     NaN   \n",
       "95   2021-07-18           NaN          313013.0                   0.502   \n",
       "96   2021-07-18           NaN               NaN                     NaN   \n",
       "97   2021-07-18           NaN           93273.0                   1.077   \n",
       "98   2021-07-18           NaN               NaN                   0.711   \n",
       "99   2021-07-18           NaN          362069.0                   2.596   \n",
       "100  2021-04-04           NaN               NaN                     NaN   \n",
       "101  2021-07-18           NaN           69059.0                  29.210   \n",
       "102  2021-07-18           NaN           78652.0                     NaN   \n",
       "103  2021-07-18           NaN           22654.0                   0.915   \n",
       "104  2021-07-18           NaN               NaN                     NaN   \n",
       "\n",
       "     positive_rate  new_cases         location  new_deaths  \\\n",
       "55             NaN        0.0      Afghanistan         0.0   \n",
       "56           0.030      132.0          Armenia         7.0   \n",
       "57           0.016      255.0       Azerbaijan         1.0   \n",
       "58           0.008       86.0          Bahrain         0.0   \n",
       "59           0.333    11578.0       Bangladesh       225.0   \n",
       "60           0.004       10.0           Bhutan         0.0   \n",
       "61             NaN        0.0           Brunei         0.0   \n",
       "62           0.035      845.0         Cambodia        30.0   \n",
       "63             NaN       31.0            China         0.0   \n",
       "64           0.029     1286.0          Georgia        13.0   \n",
       "65           0.000        2.0        Hong Kong         0.0   \n",
       "66           0.018    38164.0            India       499.0   \n",
       "67           0.293    44721.0        Indonesia      1093.0   \n",
       "68           0.249    22184.0             Iran       195.0   \n",
       "69           0.198     8698.0             Iraq        41.0   \n",
       "70           0.011      755.0           Israel         3.0   \n",
       "71           0.039     3065.0            Japan         3.0   \n",
       "72           0.005      675.0           Jordan         9.0   \n",
       "73           0.030      124.0       Kazakhstan         0.0   \n",
       "74           0.109     1189.0           Kuwait        10.0   \n",
       "75             NaN     1373.0       Kyrgyzstan        10.0   \n",
       "76           0.024      131.0             Laos         1.0   \n",
       "77             NaN      450.0          Lebanon         1.0   \n",
       "78             NaN        NaN            Macao         NaN   \n",
       "79           0.093    10710.0         Malaysia       153.0   \n",
       "80           0.017       63.0         Maldives         0.0   \n",
       "81           0.156     1171.0         Mongolia         6.0   \n",
       "82           0.303     5285.0          Myanmar       231.0   \n",
       "83           0.225     1223.0            Nepal        23.0   \n",
       "84             NaN        NaN  Northern Cyprus         NaN   \n",
       "85           0.361        0.0             Oman         0.0   \n",
       "86           0.042     2452.0         Pakistan        30.0   \n",
       "87           0.032        0.0        Palestine         0.0   \n",
       "88           0.111     5396.0      Philippines       116.0   \n",
       "89           0.024      118.0            Qatar         0.0   \n",
       "90           0.010        0.0     Saudi Arabia         0.0   \n",
       "91           0.000       92.0        Singapore         0.0   \n",
       "92           0.047     1252.0      South Korea         1.0   \n",
       "93           0.117     1420.0        Sri Lanka        46.0   \n",
       "94             NaN        7.0            Syria         1.0   \n",
       "95           0.001       18.0           Taiwan         4.0   \n",
       "96             NaN       41.0       Tajikistan         0.0   \n",
       "97             NaN    11397.0         Thailand       101.0   \n",
       "98             NaN       28.0            Timor         0.0   \n",
       "99           0.023        0.0           Turkey         0.0   \n",
       "100            NaN        NaN     Turkmenistan         NaN   \n",
       "101          0.006     1529.0              UAE         2.0   \n",
       "102            NaN      507.0       Uzbekistan         3.0   \n",
       "103          0.027     4843.0          Vietnam        29.0   \n",
       "104            NaN        4.0            Yemen         0.0   \n",
       "\n",
       "     people_vaccinated_per_hundred  hosp_patients  \n",
       "55                            1.98            NaN  \n",
       "56                            6.44            NaN  \n",
       "57                           25.45            NaN  \n",
       "58                           64.43            NaN  \n",
       "59                            3.54            NaN  \n",
       "60                           62.92            NaN  \n",
       "61                           24.36            NaN  \n",
       "62                           35.36            NaN  \n",
       "63                           43.21            NaN  \n",
       "64                            4.40            NaN  \n",
       "65                           37.58            NaN  \n",
       "66                           23.33            NaN  \n",
       "67                           15.24            NaN  \n",
       "68                            5.23            NaN  \n",
       "69                            1.74            NaN  \n",
       "70                           66.36          125.0  \n",
       "71                           33.71            NaN  \n",
       "72                           26.56            NaN  \n",
       "73                           25.95            NaN  \n",
       "74                           34.00            NaN  \n",
       "75                            1.53            NaN  \n",
       "76                           14.27            NaN  \n",
       "77                           15.39            NaN  \n",
       "78                           41.38            NaN  \n",
       "79                           30.33            NaN  \n",
       "80                           59.28            NaN  \n",
       "81                           64.27            NaN  \n",
       "82                            3.38            NaN  \n",
       "83                           10.29            NaN  \n",
       "84                           28.50            NaN  \n",
       "85                           28.14            NaN  \n",
       "86                            4.21            NaN  \n",
       "87                           11.09            NaN  \n",
       "88                            9.29            NaN  \n",
       "89                           66.50            NaN  \n",
       "90                           52.97            NaN  \n",
       "91                           70.71            NaN  \n",
       "92                           31.47            NaN  \n",
       "93                           26.05            NaN  \n",
       "94                            0.70            NaN  \n",
       "95                           20.12            NaN  \n",
       "96                            3.96            NaN  \n",
       "97                           15.45            NaN  \n",
       "98                           18.05            NaN  \n",
       "99                           46.20            NaN  \n",
       "100                           0.53            NaN  \n",
       "101                          77.60            NaN  \n",
       "102                           6.20            NaN  \n",
       "103                           4.09            NaN  \n",
       "104                           0.97            NaN  "
      ]
     },
     "execution_count": 117,
     "metadata": {},
     "output_type": "execute_result"
    }
   ],
   "source": [
    "def func_continent(a='Africa'):\n",
    "    df_covid_data = df_covid_data_v1.sort_values('date').groupby(['continent','location']).last().reset_index()\n",
    "#     df_covid_data = df_covid_data.reset_index()\n",
    "    df_covid_cont = df_covid_data['continent'] == a\n",
    "    df_cont_new = df_covid_data[df_covid_cont]\n",
    "    if a == 'Africa':\n",
    "        df_cont_new.at[13,'location'] = 'DRC'\n",
    "    elif a == 'Asia':\n",
    "        df_cont_new.at[101,'location'] = 'UAE'\n",
    "    else: df_cont_new\n",
    "    return  df_cont_new[{'date','location','new_cases','new_deaths','icu_patients','hosp_patients',\n",
    "                          'new_tests_per_thousand','positive_rate','new_vaccinations','people_vaccinated_per_hundred'}]\n",
    "func_continent('Asia')"
   ]
  },
  {
   "cell_type": "code",
   "execution_count": 96,
   "metadata": {},
   "outputs": [],
   "source": [
    "# import dash\n",
    "# import dash_core_components as dcc\n",
    "# import dash_html_components as html\n",
    "import plotly.express as px\n",
    "\n",
    "def fig_funnel(a='Africa'):\n",
    "    return px.funnel(func_continent(a).nlargest(10, 'positive_rate'), x='positive_rate', y='location',\n",
    "                       labels={\"positive_rate\": \"New Positivity Rate\", \"location\": \"Country\"})\n",
    "# fig_funnel('South America')"
   ]
  },
  {
   "cell_type": "code",
   "execution_count": 92,
   "metadata": {},
   "outputs": [],
   "source": [
    "def fig_bar(a='Africa'):\n",
    "    return px.bar(func_continent(a).nlargest(10, 'new_cases'), x=\"location\", template=\"simple_white\",\n",
    "           labels={\"location\": \"Country\", \"new_cases\": \"New Cases\"}, y=\"new_cases\", barmode=\"group\")\n",
    "# fig_bar('South America')"
   ]
  },
  {
   "cell_type": "code",
   "execution_count": 94,
   "metadata": {},
   "outputs": [],
   "source": [
    "def fig_pie(a='Africa'):\n",
    "    return px.pie(func_continent(a).nlargest(10, 'new_vaccinations'), names='location', values='new_vaccinations',\n",
    "                 labels={\"new_vaccinations\": \"New Vaccinations\", \"location\": \"Country\"})\n",
    "# fig_pie('South America')"
   ]
  },
  {
   "cell_type": "code",
   "execution_count": 114,
   "metadata": {},
   "outputs": [
    {
     "data": {
      "application/vnd.plotly.v1+json": {
       "config": {
        "plotlyServerURL": "https://plot.ly"
       },
       "data": [
        {
         "hovertemplate": "Country=%{y}<br>Vaccination per 100=%{x}<extra></extra>",
         "legendgroup": "Cayman Islands",
         "marker": {
          "color": "#636efa"
         },
         "name": "Cayman Islands",
         "orientation": "h",
         "showlegend": true,
         "type": "funnel",
         "x": [
          74.77
         ],
         "xaxis": "x",
         "y": [
          "Cayman Islands"
         ],
         "yaxis": "y"
        },
        {
         "hovertemplate": "Country=%{y}<br>Vaccination per 100=%{x}<extra></extra>",
         "legendgroup": "Canada",
         "marker": {
          "color": "#EF553B"
         },
         "name": "Canada",
         "orientation": "h",
         "showlegend": true,
         "type": "funnel",
         "x": [
          70.2
         ],
         "xaxis": "x",
         "y": [
          "Canada"
         ],
         "yaxis": "y"
        },
        {
         "hovertemplate": "Country=%{y}<br>Vaccination per 100=%{x}<extra></extra>",
         "legendgroup": "Bermuda",
         "marker": {
          "color": "#00cc96"
         },
         "name": "Bermuda",
         "orientation": "h",
         "showlegend": true,
         "type": "funnel",
         "x": [
          66.65
         ],
         "xaxis": "x",
         "y": [
          "Bermuda"
         ],
         "yaxis": "y"
        },
        {
         "hovertemplate": "Country=%{y}<br>Vaccination per 100=%{x}<extra></extra>",
         "legendgroup": "Aruba",
         "marker": {
          "color": "#ab63fa"
         },
         "name": "Aruba",
         "orientation": "h",
         "showlegend": true,
         "type": "funnel",
         "x": [
          66.53
         ],
         "xaxis": "x",
         "y": [
          "Aruba"
         ],
         "yaxis": "y"
        },
        {
         "hovertemplate": "Country=%{y}<br>Vaccination per 100=%{x}<extra></extra>",
         "legendgroup": "Anguilla",
         "marker": {
          "color": "#FFA15A"
         },
         "name": "Anguilla",
         "orientation": "h",
         "showlegend": true,
         "type": "funnel",
         "x": [
          62.13
         ],
         "xaxis": "x",
         "y": [
          "Anguilla"
         ],
         "yaxis": "y"
        },
        {
         "hovertemplate": "Country=%{y}<br>Vaccination per 100=%{x}<extra></extra>",
         "legendgroup": "Turks and Caicos Islands",
         "marker": {
          "color": "#19d3f3"
         },
         "name": "Turks and Caicos Islands",
         "orientation": "h",
         "showlegend": true,
         "type": "funnel",
         "x": [
          61.59
         ],
         "xaxis": "x",
         "y": [
          "Turks and Caicos Islands"
         ],
         "yaxis": "y"
        },
        {
         "hovertemplate": "Country=%{y}<br>Vaccination per 100=%{x}<extra></extra>",
         "legendgroup": "Greenland",
         "marker": {
          "color": "#FF6692"
         },
         "name": "Greenland",
         "orientation": "h",
         "showlegend": true,
         "type": "funnel",
         "x": [
          57.64
         ],
         "xaxis": "x",
         "y": [
          "Greenland"
         ],
         "yaxis": "y"
        },
        {
         "hovertemplate": "Country=%{y}<br>Vaccination per 100=%{x}<extra></extra>",
         "legendgroup": "United States",
         "marker": {
          "color": "#B6E880"
         },
         "name": "United States",
         "orientation": "h",
         "showlegend": true,
         "type": "funnel",
         "x": [
          55.63
         ],
         "xaxis": "x",
         "y": [
          "United States"
         ],
         "yaxis": "y"
        },
        {
         "hovertemplate": "Country=%{y}<br>Vaccination per 100=%{x}<extra></extra>",
         "legendgroup": "Curacao",
         "marker": {
          "color": "#FF97FF"
         },
         "name": "Curacao",
         "orientation": "h",
         "showlegend": true,
         "type": "funnel",
         "x": [
          55.53
         ],
         "xaxis": "x",
         "y": [
          "Curacao"
         ],
         "yaxis": "y"
        },
        {
         "hovertemplate": "Country=%{y}<br>Vaccination per 100=%{x}<extra></extra>",
         "legendgroup": "Sint Maarten (Dutch part)",
         "marker": {
          "color": "#FECB52"
         },
         "name": "Sint Maarten (Dutch part)",
         "orientation": "h",
         "showlegend": true,
         "type": "funnel",
         "x": [
          52.77
         ],
         "xaxis": "x",
         "y": [
          "Sint Maarten (Dutch part)"
         ],
         "yaxis": "y"
        }
       ],
       "layout": {
        "legend": {
         "title": {
          "text": "Country"
         },
         "tracegroupgap": 0
        },
        "margin": {
         "t": 60
        },
        "template": {
         "data": {
          "bar": [
           {
            "error_x": {
             "color": "#2a3f5f"
            },
            "error_y": {
             "color": "#2a3f5f"
            },
            "marker": {
             "line": {
              "color": "#E5ECF6",
              "width": 0.5
             }
            },
            "type": "bar"
           }
          ],
          "barpolar": [
           {
            "marker": {
             "line": {
              "color": "#E5ECF6",
              "width": 0.5
             }
            },
            "type": "barpolar"
           }
          ],
          "carpet": [
           {
            "aaxis": {
             "endlinecolor": "#2a3f5f",
             "gridcolor": "white",
             "linecolor": "white",
             "minorgridcolor": "white",
             "startlinecolor": "#2a3f5f"
            },
            "baxis": {
             "endlinecolor": "#2a3f5f",
             "gridcolor": "white",
             "linecolor": "white",
             "minorgridcolor": "white",
             "startlinecolor": "#2a3f5f"
            },
            "type": "carpet"
           }
          ],
          "choropleth": [
           {
            "colorbar": {
             "outlinewidth": 0,
             "ticks": ""
            },
            "type": "choropleth"
           }
          ],
          "contour": [
           {
            "colorbar": {
             "outlinewidth": 0,
             "ticks": ""
            },
            "colorscale": [
             [
              0,
              "#0d0887"
             ],
             [
              0.1111111111111111,
              "#46039f"
             ],
             [
              0.2222222222222222,
              "#7201a8"
             ],
             [
              0.3333333333333333,
              "#9c179e"
             ],
             [
              0.4444444444444444,
              "#bd3786"
             ],
             [
              0.5555555555555556,
              "#d8576b"
             ],
             [
              0.6666666666666666,
              "#ed7953"
             ],
             [
              0.7777777777777778,
              "#fb9f3a"
             ],
             [
              0.8888888888888888,
              "#fdca26"
             ],
             [
              1,
              "#f0f921"
             ]
            ],
            "type": "contour"
           }
          ],
          "contourcarpet": [
           {
            "colorbar": {
             "outlinewidth": 0,
             "ticks": ""
            },
            "type": "contourcarpet"
           }
          ],
          "heatmap": [
           {
            "colorbar": {
             "outlinewidth": 0,
             "ticks": ""
            },
            "colorscale": [
             [
              0,
              "#0d0887"
             ],
             [
              0.1111111111111111,
              "#46039f"
             ],
             [
              0.2222222222222222,
              "#7201a8"
             ],
             [
              0.3333333333333333,
              "#9c179e"
             ],
             [
              0.4444444444444444,
              "#bd3786"
             ],
             [
              0.5555555555555556,
              "#d8576b"
             ],
             [
              0.6666666666666666,
              "#ed7953"
             ],
             [
              0.7777777777777778,
              "#fb9f3a"
             ],
             [
              0.8888888888888888,
              "#fdca26"
             ],
             [
              1,
              "#f0f921"
             ]
            ],
            "type": "heatmap"
           }
          ],
          "heatmapgl": [
           {
            "colorbar": {
             "outlinewidth": 0,
             "ticks": ""
            },
            "colorscale": [
             [
              0,
              "#0d0887"
             ],
             [
              0.1111111111111111,
              "#46039f"
             ],
             [
              0.2222222222222222,
              "#7201a8"
             ],
             [
              0.3333333333333333,
              "#9c179e"
             ],
             [
              0.4444444444444444,
              "#bd3786"
             ],
             [
              0.5555555555555556,
              "#d8576b"
             ],
             [
              0.6666666666666666,
              "#ed7953"
             ],
             [
              0.7777777777777778,
              "#fb9f3a"
             ],
             [
              0.8888888888888888,
              "#fdca26"
             ],
             [
              1,
              "#f0f921"
             ]
            ],
            "type": "heatmapgl"
           }
          ],
          "histogram": [
           {
            "marker": {
             "colorbar": {
              "outlinewidth": 0,
              "ticks": ""
             }
            },
            "type": "histogram"
           }
          ],
          "histogram2d": [
           {
            "colorbar": {
             "outlinewidth": 0,
             "ticks": ""
            },
            "colorscale": [
             [
              0,
              "#0d0887"
             ],
             [
              0.1111111111111111,
              "#46039f"
             ],
             [
              0.2222222222222222,
              "#7201a8"
             ],
             [
              0.3333333333333333,
              "#9c179e"
             ],
             [
              0.4444444444444444,
              "#bd3786"
             ],
             [
              0.5555555555555556,
              "#d8576b"
             ],
             [
              0.6666666666666666,
              "#ed7953"
             ],
             [
              0.7777777777777778,
              "#fb9f3a"
             ],
             [
              0.8888888888888888,
              "#fdca26"
             ],
             [
              1,
              "#f0f921"
             ]
            ],
            "type": "histogram2d"
           }
          ],
          "histogram2dcontour": [
           {
            "colorbar": {
             "outlinewidth": 0,
             "ticks": ""
            },
            "colorscale": [
             [
              0,
              "#0d0887"
             ],
             [
              0.1111111111111111,
              "#46039f"
             ],
             [
              0.2222222222222222,
              "#7201a8"
             ],
             [
              0.3333333333333333,
              "#9c179e"
             ],
             [
              0.4444444444444444,
              "#bd3786"
             ],
             [
              0.5555555555555556,
              "#d8576b"
             ],
             [
              0.6666666666666666,
              "#ed7953"
             ],
             [
              0.7777777777777778,
              "#fb9f3a"
             ],
             [
              0.8888888888888888,
              "#fdca26"
             ],
             [
              1,
              "#f0f921"
             ]
            ],
            "type": "histogram2dcontour"
           }
          ],
          "mesh3d": [
           {
            "colorbar": {
             "outlinewidth": 0,
             "ticks": ""
            },
            "type": "mesh3d"
           }
          ],
          "parcoords": [
           {
            "line": {
             "colorbar": {
              "outlinewidth": 0,
              "ticks": ""
             }
            },
            "type": "parcoords"
           }
          ],
          "pie": [
           {
            "automargin": true,
            "type": "pie"
           }
          ],
          "scatter": [
           {
            "marker": {
             "colorbar": {
              "outlinewidth": 0,
              "ticks": ""
             }
            },
            "type": "scatter"
           }
          ],
          "scatter3d": [
           {
            "line": {
             "colorbar": {
              "outlinewidth": 0,
              "ticks": ""
             }
            },
            "marker": {
             "colorbar": {
              "outlinewidth": 0,
              "ticks": ""
             }
            },
            "type": "scatter3d"
           }
          ],
          "scattercarpet": [
           {
            "marker": {
             "colorbar": {
              "outlinewidth": 0,
              "ticks": ""
             }
            },
            "type": "scattercarpet"
           }
          ],
          "scattergeo": [
           {
            "marker": {
             "colorbar": {
              "outlinewidth": 0,
              "ticks": ""
             }
            },
            "type": "scattergeo"
           }
          ],
          "scattergl": [
           {
            "marker": {
             "colorbar": {
              "outlinewidth": 0,
              "ticks": ""
             }
            },
            "type": "scattergl"
           }
          ],
          "scattermapbox": [
           {
            "marker": {
             "colorbar": {
              "outlinewidth": 0,
              "ticks": ""
             }
            },
            "type": "scattermapbox"
           }
          ],
          "scatterpolar": [
           {
            "marker": {
             "colorbar": {
              "outlinewidth": 0,
              "ticks": ""
             }
            },
            "type": "scatterpolar"
           }
          ],
          "scatterpolargl": [
           {
            "marker": {
             "colorbar": {
              "outlinewidth": 0,
              "ticks": ""
             }
            },
            "type": "scatterpolargl"
           }
          ],
          "scatterternary": [
           {
            "marker": {
             "colorbar": {
              "outlinewidth": 0,
              "ticks": ""
             }
            },
            "type": "scatterternary"
           }
          ],
          "surface": [
           {
            "colorbar": {
             "outlinewidth": 0,
             "ticks": ""
            },
            "colorscale": [
             [
              0,
              "#0d0887"
             ],
             [
              0.1111111111111111,
              "#46039f"
             ],
             [
              0.2222222222222222,
              "#7201a8"
             ],
             [
              0.3333333333333333,
              "#9c179e"
             ],
             [
              0.4444444444444444,
              "#bd3786"
             ],
             [
              0.5555555555555556,
              "#d8576b"
             ],
             [
              0.6666666666666666,
              "#ed7953"
             ],
             [
              0.7777777777777778,
              "#fb9f3a"
             ],
             [
              0.8888888888888888,
              "#fdca26"
             ],
             [
              1,
              "#f0f921"
             ]
            ],
            "type": "surface"
           }
          ],
          "table": [
           {
            "cells": {
             "fill": {
              "color": "#EBF0F8"
             },
             "line": {
              "color": "white"
             }
            },
            "header": {
             "fill": {
              "color": "#C8D4E3"
             },
             "line": {
              "color": "white"
             }
            },
            "type": "table"
           }
          ]
         },
         "layout": {
          "annotationdefaults": {
           "arrowcolor": "#2a3f5f",
           "arrowhead": 0,
           "arrowwidth": 1
          },
          "coloraxis": {
           "colorbar": {
            "outlinewidth": 0,
            "ticks": ""
           }
          },
          "colorscale": {
           "diverging": [
            [
             0,
             "#8e0152"
            ],
            [
             0.1,
             "#c51b7d"
            ],
            [
             0.2,
             "#de77ae"
            ],
            [
             0.3,
             "#f1b6da"
            ],
            [
             0.4,
             "#fde0ef"
            ],
            [
             0.5,
             "#f7f7f7"
            ],
            [
             0.6,
             "#e6f5d0"
            ],
            [
             0.7,
             "#b8e186"
            ],
            [
             0.8,
             "#7fbc41"
            ],
            [
             0.9,
             "#4d9221"
            ],
            [
             1,
             "#276419"
            ]
           ],
           "sequential": [
            [
             0,
             "#0d0887"
            ],
            [
             0.1111111111111111,
             "#46039f"
            ],
            [
             0.2222222222222222,
             "#7201a8"
            ],
            [
             0.3333333333333333,
             "#9c179e"
            ],
            [
             0.4444444444444444,
             "#bd3786"
            ],
            [
             0.5555555555555556,
             "#d8576b"
            ],
            [
             0.6666666666666666,
             "#ed7953"
            ],
            [
             0.7777777777777778,
             "#fb9f3a"
            ],
            [
             0.8888888888888888,
             "#fdca26"
            ],
            [
             1,
             "#f0f921"
            ]
           ],
           "sequentialminus": [
            [
             0,
             "#0d0887"
            ],
            [
             0.1111111111111111,
             "#46039f"
            ],
            [
             0.2222222222222222,
             "#7201a8"
            ],
            [
             0.3333333333333333,
             "#9c179e"
            ],
            [
             0.4444444444444444,
             "#bd3786"
            ],
            [
             0.5555555555555556,
             "#d8576b"
            ],
            [
             0.6666666666666666,
             "#ed7953"
            ],
            [
             0.7777777777777778,
             "#fb9f3a"
            ],
            [
             0.8888888888888888,
             "#fdca26"
            ],
            [
             1,
             "#f0f921"
            ]
           ]
          },
          "colorway": [
           "#636efa",
           "#EF553B",
           "#00cc96",
           "#ab63fa",
           "#FFA15A",
           "#19d3f3",
           "#FF6692",
           "#B6E880",
           "#FF97FF",
           "#FECB52"
          ],
          "font": {
           "color": "#2a3f5f"
          },
          "geo": {
           "bgcolor": "white",
           "lakecolor": "white",
           "landcolor": "#E5ECF6",
           "showlakes": true,
           "showland": true,
           "subunitcolor": "white"
          },
          "hoverlabel": {
           "align": "left"
          },
          "hovermode": "closest",
          "mapbox": {
           "style": "light"
          },
          "paper_bgcolor": "white",
          "plot_bgcolor": "#E5ECF6",
          "polar": {
           "angularaxis": {
            "gridcolor": "white",
            "linecolor": "white",
            "ticks": ""
           },
           "bgcolor": "#E5ECF6",
           "radialaxis": {
            "gridcolor": "white",
            "linecolor": "white",
            "ticks": ""
           }
          },
          "scene": {
           "xaxis": {
            "backgroundcolor": "#E5ECF6",
            "gridcolor": "white",
            "gridwidth": 2,
            "linecolor": "white",
            "showbackground": true,
            "ticks": "",
            "zerolinecolor": "white"
           },
           "yaxis": {
            "backgroundcolor": "#E5ECF6",
            "gridcolor": "white",
            "gridwidth": 2,
            "linecolor": "white",
            "showbackground": true,
            "ticks": "",
            "zerolinecolor": "white"
           },
           "zaxis": {
            "backgroundcolor": "#E5ECF6",
            "gridcolor": "white",
            "gridwidth": 2,
            "linecolor": "white",
            "showbackground": true,
            "ticks": "",
            "zerolinecolor": "white"
           }
          },
          "shapedefaults": {
           "line": {
            "color": "#2a3f5f"
           }
          },
          "ternary": {
           "aaxis": {
            "gridcolor": "white",
            "linecolor": "white",
            "ticks": ""
           },
           "baxis": {
            "gridcolor": "white",
            "linecolor": "white",
            "ticks": ""
           },
           "bgcolor": "#E5ECF6",
           "caxis": {
            "gridcolor": "white",
            "linecolor": "white",
            "ticks": ""
           }
          },
          "title": {
           "x": 0.05
          },
          "xaxis": {
           "automargin": true,
           "gridcolor": "white",
           "linecolor": "white",
           "ticks": "",
           "title": {
            "standoff": 15
           },
           "zerolinecolor": "white",
           "zerolinewidth": 2
          },
          "yaxis": {
           "automargin": true,
           "gridcolor": "white",
           "linecolor": "white",
           "ticks": "",
           "title": {
            "standoff": 15
           },
           "zerolinecolor": "white",
           "zerolinewidth": 2
          }
         }
        },
        "xaxis": {
         "anchor": "y",
         "domain": [
          0,
          1
         ]
        },
        "yaxis": {
         "anchor": "x",
         "domain": [
          0,
          1
         ],
         "showticklabels": false
        }
       }
      },
      "text/html": [
       "<div>\n",
       "        \n",
       "        \n",
       "            <div id=\"51ee2aff-d552-4300-8e22-a556fbb5f094\" class=\"plotly-graph-div\" style=\"height:525px; width:100%;\"></div>\n",
       "            <script type=\"text/javascript\">\n",
       "                require([\"plotly\"], function(Plotly) {\n",
       "                    window.PLOTLYENV=window.PLOTLYENV || {};\n",
       "                    \n",
       "                if (document.getElementById(\"51ee2aff-d552-4300-8e22-a556fbb5f094\")) {\n",
       "                    Plotly.newPlot(\n",
       "                        '51ee2aff-d552-4300-8e22-a556fbb5f094',\n",
       "                        [{\"hovertemplate\": \"Country=%{y}<br>Vaccination per 100=%{x}<extra></extra>\", \"legendgroup\": \"Cayman Islands\", \"marker\": {\"color\": \"#636efa\"}, \"name\": \"Cayman Islands\", \"orientation\": \"h\", \"showlegend\": true, \"type\": \"funnel\", \"x\": [74.77], \"xaxis\": \"x\", \"y\": [\"Cayman Islands\"], \"yaxis\": \"y\"}, {\"hovertemplate\": \"Country=%{y}<br>Vaccination per 100=%{x}<extra></extra>\", \"legendgroup\": \"Canada\", \"marker\": {\"color\": \"#EF553B\"}, \"name\": \"Canada\", \"orientation\": \"h\", \"showlegend\": true, \"type\": \"funnel\", \"x\": [70.2], \"xaxis\": \"x\", \"y\": [\"Canada\"], \"yaxis\": \"y\"}, {\"hovertemplate\": \"Country=%{y}<br>Vaccination per 100=%{x}<extra></extra>\", \"legendgroup\": \"Bermuda\", \"marker\": {\"color\": \"#00cc96\"}, \"name\": \"Bermuda\", \"orientation\": \"h\", \"showlegend\": true, \"type\": \"funnel\", \"x\": [66.65], \"xaxis\": \"x\", \"y\": [\"Bermuda\"], \"yaxis\": \"y\"}, {\"hovertemplate\": \"Country=%{y}<br>Vaccination per 100=%{x}<extra></extra>\", \"legendgroup\": \"Aruba\", \"marker\": {\"color\": \"#ab63fa\"}, \"name\": \"Aruba\", \"orientation\": \"h\", \"showlegend\": true, \"type\": \"funnel\", \"x\": [66.53], \"xaxis\": \"x\", \"y\": [\"Aruba\"], \"yaxis\": \"y\"}, {\"hovertemplate\": \"Country=%{y}<br>Vaccination per 100=%{x}<extra></extra>\", \"legendgroup\": \"Anguilla\", \"marker\": {\"color\": \"#FFA15A\"}, \"name\": \"Anguilla\", \"orientation\": \"h\", \"showlegend\": true, \"type\": \"funnel\", \"x\": [62.13], \"xaxis\": \"x\", \"y\": [\"Anguilla\"], \"yaxis\": \"y\"}, {\"hovertemplate\": \"Country=%{y}<br>Vaccination per 100=%{x}<extra></extra>\", \"legendgroup\": \"Turks and Caicos Islands\", \"marker\": {\"color\": \"#19d3f3\"}, \"name\": \"Turks and Caicos Islands\", \"orientation\": \"h\", \"showlegend\": true, \"type\": \"funnel\", \"x\": [61.59], \"xaxis\": \"x\", \"y\": [\"Turks and Caicos Islands\"], \"yaxis\": \"y\"}, {\"hovertemplate\": \"Country=%{y}<br>Vaccination per 100=%{x}<extra></extra>\", \"legendgroup\": \"Greenland\", \"marker\": {\"color\": \"#FF6692\"}, \"name\": \"Greenland\", \"orientation\": \"h\", \"showlegend\": true, \"type\": \"funnel\", \"x\": [57.64], \"xaxis\": \"x\", \"y\": [\"Greenland\"], \"yaxis\": \"y\"}, {\"hovertemplate\": \"Country=%{y}<br>Vaccination per 100=%{x}<extra></extra>\", \"legendgroup\": \"United States\", \"marker\": {\"color\": \"#B6E880\"}, \"name\": \"United States\", \"orientation\": \"h\", \"showlegend\": true, \"type\": \"funnel\", \"x\": [55.63], \"xaxis\": \"x\", \"y\": [\"United States\"], \"yaxis\": \"y\"}, {\"hovertemplate\": \"Country=%{y}<br>Vaccination per 100=%{x}<extra></extra>\", \"legendgroup\": \"Curacao\", \"marker\": {\"color\": \"#FF97FF\"}, \"name\": \"Curacao\", \"orientation\": \"h\", \"showlegend\": true, \"type\": \"funnel\", \"x\": [55.53], \"xaxis\": \"x\", \"y\": [\"Curacao\"], \"yaxis\": \"y\"}, {\"hovertemplate\": \"Country=%{y}<br>Vaccination per 100=%{x}<extra></extra>\", \"legendgroup\": \"Sint Maarten (Dutch part)\", \"marker\": {\"color\": \"#FECB52\"}, \"name\": \"Sint Maarten (Dutch part)\", \"orientation\": \"h\", \"showlegend\": true, \"type\": \"funnel\", \"x\": [52.77], \"xaxis\": \"x\", \"y\": [\"Sint Maarten (Dutch part)\"], \"yaxis\": \"y\"}],\n",
       "                        {\"legend\": {\"title\": {\"text\": \"Country\"}, \"tracegroupgap\": 0}, \"margin\": {\"t\": 60}, \"template\": {\"data\": {\"bar\": [{\"error_x\": {\"color\": \"#2a3f5f\"}, \"error_y\": {\"color\": \"#2a3f5f\"}, \"marker\": {\"line\": {\"color\": \"#E5ECF6\", \"width\": 0.5}}, \"type\": \"bar\"}], \"barpolar\": [{\"marker\": {\"line\": {\"color\": \"#E5ECF6\", \"width\": 0.5}}, \"type\": \"barpolar\"}], \"carpet\": [{\"aaxis\": {\"endlinecolor\": \"#2a3f5f\", \"gridcolor\": \"white\", \"linecolor\": \"white\", \"minorgridcolor\": \"white\", \"startlinecolor\": \"#2a3f5f\"}, \"baxis\": {\"endlinecolor\": \"#2a3f5f\", \"gridcolor\": \"white\", \"linecolor\": \"white\", \"minorgridcolor\": \"white\", \"startlinecolor\": \"#2a3f5f\"}, \"type\": \"carpet\"}], \"choropleth\": [{\"colorbar\": {\"outlinewidth\": 0, \"ticks\": \"\"}, \"type\": \"choropleth\"}], \"contour\": [{\"colorbar\": {\"outlinewidth\": 0, \"ticks\": \"\"}, \"colorscale\": [[0.0, \"#0d0887\"], [0.1111111111111111, \"#46039f\"], [0.2222222222222222, \"#7201a8\"], [0.3333333333333333, \"#9c179e\"], [0.4444444444444444, \"#bd3786\"], [0.5555555555555556, \"#d8576b\"], [0.6666666666666666, \"#ed7953\"], [0.7777777777777778, \"#fb9f3a\"], [0.8888888888888888, \"#fdca26\"], [1.0, \"#f0f921\"]], \"type\": \"contour\"}], \"contourcarpet\": [{\"colorbar\": {\"outlinewidth\": 0, \"ticks\": \"\"}, \"type\": \"contourcarpet\"}], \"heatmap\": [{\"colorbar\": {\"outlinewidth\": 0, \"ticks\": \"\"}, \"colorscale\": [[0.0, \"#0d0887\"], [0.1111111111111111, \"#46039f\"], [0.2222222222222222, \"#7201a8\"], [0.3333333333333333, \"#9c179e\"], [0.4444444444444444, \"#bd3786\"], [0.5555555555555556, \"#d8576b\"], [0.6666666666666666, \"#ed7953\"], [0.7777777777777778, \"#fb9f3a\"], [0.8888888888888888, \"#fdca26\"], [1.0, \"#f0f921\"]], \"type\": \"heatmap\"}], \"heatmapgl\": [{\"colorbar\": {\"outlinewidth\": 0, \"ticks\": \"\"}, \"colorscale\": [[0.0, \"#0d0887\"], [0.1111111111111111, \"#46039f\"], [0.2222222222222222, \"#7201a8\"], [0.3333333333333333, \"#9c179e\"], [0.4444444444444444, \"#bd3786\"], [0.5555555555555556, \"#d8576b\"], [0.6666666666666666, \"#ed7953\"], [0.7777777777777778, \"#fb9f3a\"], [0.8888888888888888, \"#fdca26\"], [1.0, \"#f0f921\"]], \"type\": \"heatmapgl\"}], \"histogram\": [{\"marker\": {\"colorbar\": {\"outlinewidth\": 0, \"ticks\": \"\"}}, \"type\": \"histogram\"}], \"histogram2d\": [{\"colorbar\": {\"outlinewidth\": 0, \"ticks\": \"\"}, \"colorscale\": [[0.0, \"#0d0887\"], [0.1111111111111111, \"#46039f\"], [0.2222222222222222, \"#7201a8\"], [0.3333333333333333, \"#9c179e\"], [0.4444444444444444, \"#bd3786\"], [0.5555555555555556, \"#d8576b\"], [0.6666666666666666, \"#ed7953\"], [0.7777777777777778, \"#fb9f3a\"], [0.8888888888888888, \"#fdca26\"], [1.0, \"#f0f921\"]], \"type\": \"histogram2d\"}], \"histogram2dcontour\": [{\"colorbar\": {\"outlinewidth\": 0, \"ticks\": \"\"}, \"colorscale\": [[0.0, \"#0d0887\"], [0.1111111111111111, \"#46039f\"], [0.2222222222222222, \"#7201a8\"], [0.3333333333333333, \"#9c179e\"], [0.4444444444444444, \"#bd3786\"], [0.5555555555555556, \"#d8576b\"], [0.6666666666666666, \"#ed7953\"], [0.7777777777777778, \"#fb9f3a\"], [0.8888888888888888, \"#fdca26\"], [1.0, \"#f0f921\"]], \"type\": \"histogram2dcontour\"}], \"mesh3d\": [{\"colorbar\": {\"outlinewidth\": 0, \"ticks\": \"\"}, \"type\": \"mesh3d\"}], \"parcoords\": [{\"line\": {\"colorbar\": {\"outlinewidth\": 0, \"ticks\": \"\"}}, \"type\": \"parcoords\"}], \"pie\": [{\"automargin\": true, \"type\": \"pie\"}], \"scatter\": [{\"marker\": {\"colorbar\": {\"outlinewidth\": 0, \"ticks\": \"\"}}, \"type\": \"scatter\"}], \"scatter3d\": [{\"line\": {\"colorbar\": {\"outlinewidth\": 0, \"ticks\": \"\"}}, \"marker\": {\"colorbar\": {\"outlinewidth\": 0, \"ticks\": \"\"}}, \"type\": \"scatter3d\"}], \"scattercarpet\": [{\"marker\": {\"colorbar\": {\"outlinewidth\": 0, \"ticks\": \"\"}}, \"type\": \"scattercarpet\"}], \"scattergeo\": [{\"marker\": {\"colorbar\": {\"outlinewidth\": 0, \"ticks\": \"\"}}, \"type\": \"scattergeo\"}], \"scattergl\": [{\"marker\": {\"colorbar\": {\"outlinewidth\": 0, \"ticks\": \"\"}}, \"type\": \"scattergl\"}], \"scattermapbox\": [{\"marker\": {\"colorbar\": {\"outlinewidth\": 0, \"ticks\": \"\"}}, \"type\": \"scattermapbox\"}], \"scatterpolar\": [{\"marker\": {\"colorbar\": {\"outlinewidth\": 0, \"ticks\": \"\"}}, \"type\": \"scatterpolar\"}], \"scatterpolargl\": [{\"marker\": {\"colorbar\": {\"outlinewidth\": 0, \"ticks\": \"\"}}, \"type\": \"scatterpolargl\"}], \"scatterternary\": [{\"marker\": {\"colorbar\": {\"outlinewidth\": 0, \"ticks\": \"\"}}, \"type\": \"scatterternary\"}], \"surface\": [{\"colorbar\": {\"outlinewidth\": 0, \"ticks\": \"\"}, \"colorscale\": [[0.0, \"#0d0887\"], [0.1111111111111111, \"#46039f\"], [0.2222222222222222, \"#7201a8\"], [0.3333333333333333, \"#9c179e\"], [0.4444444444444444, \"#bd3786\"], [0.5555555555555556, \"#d8576b\"], [0.6666666666666666, \"#ed7953\"], [0.7777777777777778, \"#fb9f3a\"], [0.8888888888888888, \"#fdca26\"], [1.0, \"#f0f921\"]], \"type\": \"surface\"}], \"table\": [{\"cells\": {\"fill\": {\"color\": \"#EBF0F8\"}, \"line\": {\"color\": \"white\"}}, \"header\": {\"fill\": {\"color\": \"#C8D4E3\"}, \"line\": {\"color\": \"white\"}}, \"type\": \"table\"}]}, \"layout\": {\"annotationdefaults\": {\"arrowcolor\": \"#2a3f5f\", \"arrowhead\": 0, \"arrowwidth\": 1}, \"coloraxis\": {\"colorbar\": {\"outlinewidth\": 0, \"ticks\": \"\"}}, \"colorscale\": {\"diverging\": [[0, \"#8e0152\"], [0.1, \"#c51b7d\"], [0.2, \"#de77ae\"], [0.3, \"#f1b6da\"], [0.4, \"#fde0ef\"], [0.5, \"#f7f7f7\"], [0.6, \"#e6f5d0\"], [0.7, \"#b8e186\"], [0.8, \"#7fbc41\"], [0.9, \"#4d9221\"], [1, \"#276419\"]], \"sequential\": [[0.0, \"#0d0887\"], [0.1111111111111111, \"#46039f\"], [0.2222222222222222, \"#7201a8\"], [0.3333333333333333, \"#9c179e\"], [0.4444444444444444, \"#bd3786\"], [0.5555555555555556, \"#d8576b\"], [0.6666666666666666, \"#ed7953\"], [0.7777777777777778, \"#fb9f3a\"], [0.8888888888888888, \"#fdca26\"], [1.0, \"#f0f921\"]], \"sequentialminus\": [[0.0, \"#0d0887\"], [0.1111111111111111, \"#46039f\"], [0.2222222222222222, \"#7201a8\"], [0.3333333333333333, \"#9c179e\"], [0.4444444444444444, \"#bd3786\"], [0.5555555555555556, \"#d8576b\"], [0.6666666666666666, \"#ed7953\"], [0.7777777777777778, \"#fb9f3a\"], [0.8888888888888888, \"#fdca26\"], [1.0, \"#f0f921\"]]}, \"colorway\": [\"#636efa\", \"#EF553B\", \"#00cc96\", \"#ab63fa\", \"#FFA15A\", \"#19d3f3\", \"#FF6692\", \"#B6E880\", \"#FF97FF\", \"#FECB52\"], \"font\": {\"color\": \"#2a3f5f\"}, \"geo\": {\"bgcolor\": \"white\", \"lakecolor\": \"white\", \"landcolor\": \"#E5ECF6\", \"showlakes\": true, \"showland\": true, \"subunitcolor\": \"white\"}, \"hoverlabel\": {\"align\": \"left\"}, \"hovermode\": \"closest\", \"mapbox\": {\"style\": \"light\"}, \"paper_bgcolor\": \"white\", \"plot_bgcolor\": \"#E5ECF6\", \"polar\": {\"angularaxis\": {\"gridcolor\": \"white\", \"linecolor\": \"white\", \"ticks\": \"\"}, \"bgcolor\": \"#E5ECF6\", \"radialaxis\": {\"gridcolor\": \"white\", \"linecolor\": \"white\", \"ticks\": \"\"}}, \"scene\": {\"xaxis\": {\"backgroundcolor\": \"#E5ECF6\", \"gridcolor\": \"white\", \"gridwidth\": 2, \"linecolor\": \"white\", \"showbackground\": true, \"ticks\": \"\", \"zerolinecolor\": \"white\"}, \"yaxis\": {\"backgroundcolor\": \"#E5ECF6\", \"gridcolor\": \"white\", \"gridwidth\": 2, \"linecolor\": \"white\", \"showbackground\": true, \"ticks\": \"\", \"zerolinecolor\": \"white\"}, \"zaxis\": {\"backgroundcolor\": \"#E5ECF6\", \"gridcolor\": \"white\", \"gridwidth\": 2, \"linecolor\": \"white\", \"showbackground\": true, \"ticks\": \"\", \"zerolinecolor\": \"white\"}}, \"shapedefaults\": {\"line\": {\"color\": \"#2a3f5f\"}}, \"ternary\": {\"aaxis\": {\"gridcolor\": \"white\", \"linecolor\": \"white\", \"ticks\": \"\"}, \"baxis\": {\"gridcolor\": \"white\", \"linecolor\": \"white\", \"ticks\": \"\"}, \"bgcolor\": \"#E5ECF6\", \"caxis\": {\"gridcolor\": \"white\", \"linecolor\": \"white\", \"ticks\": \"\"}}, \"title\": {\"x\": 0.05}, \"xaxis\": {\"automargin\": true, \"gridcolor\": \"white\", \"linecolor\": \"white\", \"ticks\": \"\", \"title\": {\"standoff\": 15}, \"zerolinecolor\": \"white\", \"zerolinewidth\": 2}, \"yaxis\": {\"automargin\": true, \"gridcolor\": \"white\", \"linecolor\": \"white\", \"ticks\": \"\", \"title\": {\"standoff\": 15}, \"zerolinecolor\": \"white\", \"zerolinewidth\": 2}}}, \"xaxis\": {\"anchor\": \"y\", \"domain\": [0.0, 1.0]}, \"yaxis\": {\"anchor\": \"x\", \"domain\": [0.0, 1.0], \"showticklabels\": false}},\n",
       "                        {\"responsive\": true}\n",
       "                    ).then(function(){\n",
       "                            \n",
       "var gd = document.getElementById('51ee2aff-d552-4300-8e22-a556fbb5f094');\n",
       "var x = new MutationObserver(function (mutations, observer) {{\n",
       "        var display = window.getComputedStyle(gd).display;\n",
       "        if (!display || display === 'none') {{\n",
       "            console.log([gd, 'removed!']);\n",
       "            Plotly.purge(gd);\n",
       "            observer.disconnect();\n",
       "        }}\n",
       "}});\n",
       "\n",
       "// Listen for the removal of the full notebook cells\n",
       "var notebookContainer = gd.closest('#notebook-container');\n",
       "if (notebookContainer) {{\n",
       "    x.observe(notebookContainer, {childList: true});\n",
       "}}\n",
       "\n",
       "// Listen for the clearing of the current output cell\n",
       "var outputEl = gd.closest('.output');\n",
       "if (outputEl) {{\n",
       "    x.observe(outputEl, {childList: true});\n",
       "}}\n",
       "\n",
       "                        })\n",
       "                };\n",
       "                });\n",
       "            </script>\n",
       "        </div>"
      ]
     },
     "metadata": {},
     "output_type": "display_data"
    }
   ],
   "source": [
    "def fig_funnel_vaccine(a='Africa'):\n",
    "    return px.funnel(func_continent(a).nlargest(10, 'people_vaccinated_per_hundred'),\n",
    "                               x='people_vaccinated_per_hundred',\n",
    "                               y='location', color='location',\n",
    "                               labels={\"people_vaccinated_per_hundred\": \"Vaccination per 100\", \"location\": \"Country\"}).update_yaxes(showticklabels=False)\n",
    "fig_funnel_vaccine('North America')"
   ]
  },
  {
   "cell_type": "code",
   "execution_count": 17,
   "metadata": {},
   "outputs": [
    {
     "data": {
      "text/plain": [
       "array(['Asia', nan, 'Europe', 'Africa', 'North America', 'South America',\n",
       "       'Oceania'], dtype=object)"
      ]
     },
     "execution_count": 17,
     "metadata": {},
     "output_type": "execute_result"
    }
   ],
   "source": [
    "df_covid_data_v1['continent'].unique()"
   ]
  }
 ],
 "metadata": {
  "kernelspec": {
   "display_name": "Python 3",
   "language": "python",
   "name": "python3"
  },
  "language_info": {
   "codemirror_mode": {
    "name": "ipython",
    "version": 3
   },
   "file_extension": ".py",
   "mimetype": "text/x-python",
   "name": "python",
   "nbconvert_exporter": "python",
   "pygments_lexer": "ipython3",
   "version": "3.7.4"
  }
 },
 "nbformat": 4,
 "nbformat_minor": 2
}
